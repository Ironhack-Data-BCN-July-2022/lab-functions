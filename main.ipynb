{
 "cells": [
  {
   "cell_type": "markdown",
   "metadata": {},
   "source": [
    "# Functions"
   ]
  },
  {
   "cell_type": "markdown",
   "metadata": {},
   "source": [
    "On this lab we will put to practice some of the concepts we have learned on this past few days.\n",
    "\n",
    "`NOTE: On this lab you should try to write all the functions yourself using only the most basic of python syntax and without functions such as len, count, sum, max, min, in, etc. Give it a try. 🧑🏻‍💻👩🏻‍💻`\n",
    "\n",
    "The cell after each exercise contains a few tests to check if your function works as expected."
   ]
  },
  {
   "cell_type": "code",
   "execution_count": 1,
   "metadata": {},
   "outputs": [],
   "source": [
    "from mod.testing import *\n",
    "import unittest"
   ]
  },
  {
   "cell_type": "markdown",
   "metadata": {},
   "source": [
    "## 1. Write a function that returns the greater of two numbers"
   ]
  },
  {
   "cell_type": "code",
   "execution_count": 3,
   "metadata": {},
   "outputs": [],
   "source": [
    "def greater(a,b):\n",
    "    if a > b:\n",
    "        return a\n",
    "    elif a < b:\n",
    "        return b\n",
    "    elif a == b:\n",
    "        return 'equal'\n",
    "    else:\n",
    "        return 'err'"
   ]
  },
  {
   "cell_type": "code",
   "execution_count": 4,
   "metadata": {},
   "outputs": [
    {
     "name": "stderr",
     "output_type": "stream",
     "text": [
      "....................................................................................................\n",
      "----------------------------------------------------------------------\n",
      "Ran 100 tests in 0.112s\n",
      "\n",
      "OK\n"
     ]
    }
   ],
   "source": [
    "# This will test your function \n",
    "test_greater(greater)"
   ]
  },
  {
   "cell_type": "markdown",
   "metadata": {},
   "source": [
    "## 2. Now write a function that returns the largest element on a list"
   ]
  },
  {
   "cell_type": "code",
   "execution_count": 5,
   "metadata": {},
   "outputs": [],
   "source": [
    "def greatest(arr):\n",
    "    greatest = arr[0]\n",
    "    for x in arr:\n",
    "        if greatest < x:\n",
    "            greatest = x\n",
    "    return greatest\n",
    "\n",
    "# can come back and use lambda here!"
   ]
  },
  {
   "cell_type": "code",
   "execution_count": 6,
   "metadata": {},
   "outputs": [
    {
     "name": "stderr",
     "output_type": "stream",
     "text": [
      "....................................................................................................\n",
      "----------------------------------------------------------------------\n",
      "Ran 100 tests in 0.139s\n",
      "\n",
      "OK\n"
     ]
    }
   ],
   "source": [
    "# This will test your function \n",
    "test_greatest(greatest)"
   ]
  },
  {
   "cell_type": "markdown",
   "metadata": {},
   "source": [
    "## 3. Write a function that sums all the elements on a list"
   ]
  },
  {
   "cell_type": "code",
   "execution_count": 7,
   "metadata": {},
   "outputs": [],
   "source": [
    "def sum_all(arr):\n",
    "    sum_all = 0\n",
    "    for x in arr:\n",
    "        sum_all += x\n",
    "    return sum_all"
   ]
  },
  {
   "cell_type": "code",
   "execution_count": 8,
   "metadata": {},
   "outputs": [
    {
     "name": "stderr",
     "output_type": "stream",
     "text": [
      "....................................................................................................\n",
      "----------------------------------------------------------------------\n",
      "Ran 100 tests in 0.137s\n",
      "\n",
      "OK\n"
     ]
    }
   ],
   "source": [
    "# This will test your function \n",
    "test_sum(sum_all)"
   ]
  },
  {
   "cell_type": "markdown",
   "metadata": {},
   "source": [
    "## 4. Write another function that multiplies all the elements on a list"
   ]
  },
  {
   "cell_type": "code",
   "execution_count": 11,
   "metadata": {},
   "outputs": [],
   "source": [
    "def mult_all(arr):\n",
    "    multall = 1\n",
    "    for x in arr:\n",
    "        multall *= x\n",
    "    return multall"
   ]
  },
  {
   "cell_type": "code",
   "execution_count": 12,
   "metadata": {},
   "outputs": [
    {
     "name": "stderr",
     "output_type": "stream",
     "text": [
      "....................................................................................................\n",
      "----------------------------------------------------------------------\n",
      "Ran 100 tests in 0.121s\n",
      "\n",
      "OK\n"
     ]
    }
   ],
   "source": [
    "# This will test your function \n",
    "test_mult(mult_all)"
   ]
  },
  {
   "cell_type": "markdown",
   "metadata": {},
   "source": [
    "## 5. Now combine those two ideas and write a function that receives a list and either \"+\" or \"*\" and outputs acordingly"
   ]
  },
  {
   "cell_type": "code",
   "execution_count": 13,
   "metadata": {},
   "outputs": [],
   "source": [
    "def oper_all(arr, oper):\n",
    "    if oper == \"+\":\n",
    "        return sum_all(arr)\n",
    "    elif oper == \"*\":\n",
    "        return mult_all(arr)\n",
    "    else:\n",
    "        return 'err'"
   ]
  },
  {
   "cell_type": "code",
   "execution_count": 14,
   "metadata": {},
   "outputs": [
    {
     "name": "stderr",
     "output_type": "stream",
     "text": [
      "....................................................................................................\n",
      "----------------------------------------------------------------------\n",
      "Ran 100 tests in 0.132s\n",
      "\n",
      "OK\n"
     ]
    }
   ],
   "source": [
    "# This will test your function \n",
    "test_operations(oper_all)"
   ]
  },
  {
   "cell_type": "markdown",
   "metadata": {},
   "source": [
    "## 6. Write a function that returns the factorial of a number."
   ]
  },
  {
   "cell_type": "code",
   "execution_count": 23,
   "metadata": {},
   "outputs": [],
   "source": [
    "def factorial(n):\n",
    "    final = n\n",
    "    while n != 1:\n",
    "        n -=1\n",
    "        final *= n\n",
    "    return final"
   ]
  },
  {
   "cell_type": "code",
   "execution_count": 24,
   "metadata": {},
   "outputs": [
    {
     "name": "stderr",
     "output_type": "stream",
     "text": [
      "....................................................................................................\n",
      "----------------------------------------------------------------------\n",
      "Ran 100 tests in 0.154s\n",
      "\n",
      "OK\n"
     ]
    }
   ],
   "source": [
    "# This will test your function \n",
    "test_factorial(factorial)"
   ]
  },
  {
   "cell_type": "markdown",
   "metadata": {},
   "source": [
    "## 7. Write a function that takes a list and returns a list of the unique values.\n",
    "\n",
    "`NOTE: You cannot use set. 🤔`"
   ]
  },
  {
   "cell_type": "code",
   "execution_count": 25,
   "metadata": {},
   "outputs": [],
   "source": [
    "def unique(arr):\n",
    "    new_arr = []\n",
    "    for x in arr:\n",
    "        if x not in new_arr:\n",
    "            new_arr.append(x)\n",
    "    return new_arr"
   ]
  },
  {
   "cell_type": "code",
   "execution_count": 26,
   "metadata": {},
   "outputs": [
    {
     "name": "stderr",
     "output_type": "stream",
     "text": [
      "....................................................................................................\n",
      "----------------------------------------------------------------------\n",
      "Ran 100 tests in 0.188s\n",
      "\n",
      "OK\n"
     ]
    }
   ],
   "source": [
    "# This will test your function \n",
    "test_unique(unique)"
   ]
  },
  {
   "cell_type": "markdown",
   "metadata": {},
   "source": [
    "## 8. Write a function that returns the mode of a list, i.e.: the element that appears the most times.\n",
    "`NOTE: You should not use count... 🧐`"
   ]
  },
  {
   "cell_type": "code",
   "execution_count": 27,
   "metadata": {},
   "outputs": [],
   "source": [
    "def mode_counter(arr):\n",
    "    mode = int\n",
    "    highest_count = 0\n",
    "    counter = 0\n",
    "    \n",
    "    for y in arr:\n",
    "        for x in arr:\n",
    "            if y == x:\n",
    "                counter +=1 # counter++ every time the current number is equal\n",
    "            if counter > highest_count:\n",
    "                highest_count = counter\n",
    "                mode = y\n",
    "    return mode"
   ]
  },
  {
   "cell_type": "code",
   "execution_count": 28,
   "metadata": {},
   "outputs": [
    {
     "name": "stderr",
     "output_type": "stream",
     "text": [
      "....................................................................................................\n",
      "----------------------------------------------------------------------\n",
      "Ran 100 tests in 0.260s\n",
      "\n",
      "OK\n"
     ]
    }
   ],
   "source": [
    "# This will test your function \n",
    "test_mode(mode_counter)"
   ]
  },
  {
   "cell_type": "markdown",
   "metadata": {},
   "source": [
    "## 9. Write a function that calculates the standard deviation of a list.\n",
    "`NOTE: Do not use any libraries or already built functions. 😉`"
   ]
  },
  {
   "cell_type": "code",
   "execution_count": null,
   "metadata": {},
   "outputs": [],
   "source": [
    "from statistics import stdev\n",
    "def st_dev(arr):\n",
    "    pass"
   ]
  },
  {
   "cell_type": "code",
   "execution_count": null,
   "metadata": {},
   "outputs": [],
   "source": [
    "# This will test your function \n",
    "test_stdev(st_dev)"
   ]
  },
  {
   "cell_type": "markdown",
   "metadata": {},
   "source": [
    "## 10. Write a function to check if a string is a pangram, i.e.: if it contains all the letters of the alphabet at least once. Mind that the strings may contain characters that are not letters."
   ]
  },
  {
   "cell_type": "code",
   "execution_count": 37,
   "metadata": {},
   "outputs": [],
   "source": [
    "import string\n",
    "\n",
    "def pangram(string):\n",
    "    # loop through all letters in alphabet, exit loop when letter found, move to next letter    \n",
    "    \n",
    "    for x in range(string.ascii_lowercase[:26]): # loop through all letters of alphabet\n",
    "        for y in string: # check against all letters in string\n",
    "            if x == y:   # when a char matches the current alphabet letter\n",
    "                break    # exit this loop\n",
    "            return False # otherwise the letter is not found\n",
    "    return True"
   ]
  },
  {
   "cell_type": "code",
   "execution_count": 38,
   "metadata": {},
   "outputs": [
    {
     "name": "stderr",
     "output_type": "stream",
     "text": [
      "EEEEEEEEEEEEEEEEEEEEEEEEEEEEEE\n",
      "======================================================================\n",
      "ERROR: runTest (mod.testing.test_pangram.<locals>.TestKnown)\n",
      "----------------------------------------------------------------------\n",
      "Traceback (most recent call last):\n",
      "  File \"/Users/venice/Downloads/1.DS/labs/lab-functions/mod/testing.py\", line 172, in runTest\n",
      "    self.assertEqual(fn(self.input), self.output, f\"Should be {self.output}\")\n",
      "  File \"/var/folders/yx/4xsyrpbs305132t_87mnd3600000gn/T/ipykernel_20717/167969502.py\", line 6, in pangram\n",
      "    for x in range(string.ascii_lowercase[:26]): # loop through all letters of alphabet\n",
      "AttributeError: 'str' object has no attribute 'ascii_lowercase'\n",
      "\n",
      "======================================================================\n",
      "ERROR: runTest (mod.testing.test_pangram.<locals>.TestKnown)\n",
      "----------------------------------------------------------------------\n",
      "Traceback (most recent call last):\n",
      "  File \"/Users/venice/Downloads/1.DS/labs/lab-functions/mod/testing.py\", line 172, in runTest\n",
      "    self.assertEqual(fn(self.input), self.output, f\"Should be {self.output}\")\n",
      "  File \"/var/folders/yx/4xsyrpbs305132t_87mnd3600000gn/T/ipykernel_20717/167969502.py\", line 6, in pangram\n",
      "    for x in range(string.ascii_lowercase[:26]): # loop through all letters of alphabet\n",
      "AttributeError: 'str' object has no attribute 'ascii_lowercase'\n",
      "\n",
      "======================================================================\n",
      "ERROR: runTest (mod.testing.test_pangram.<locals>.TestKnown)\n",
      "----------------------------------------------------------------------\n",
      "Traceback (most recent call last):\n",
      "  File \"/Users/venice/Downloads/1.DS/labs/lab-functions/mod/testing.py\", line 172, in runTest\n",
      "    self.assertEqual(fn(self.input), self.output, f\"Should be {self.output}\")\n",
      "  File \"/var/folders/yx/4xsyrpbs305132t_87mnd3600000gn/T/ipykernel_20717/167969502.py\", line 6, in pangram\n",
      "    for x in range(string.ascii_lowercase[:26]): # loop through all letters of alphabet\n",
      "AttributeError: 'str' object has no attribute 'ascii_lowercase'\n",
      "\n",
      "======================================================================\n",
      "ERROR: runTest (mod.testing.test_pangram.<locals>.TestKnown)\n",
      "----------------------------------------------------------------------\n",
      "Traceback (most recent call last):\n",
      "  File \"/Users/venice/Downloads/1.DS/labs/lab-functions/mod/testing.py\", line 172, in runTest\n",
      "    self.assertEqual(fn(self.input), self.output, f\"Should be {self.output}\")\n",
      "  File \"/var/folders/yx/4xsyrpbs305132t_87mnd3600000gn/T/ipykernel_20717/167969502.py\", line 6, in pangram\n",
      "    for x in range(string.ascii_lowercase[:26]): # loop through all letters of alphabet\n",
      "AttributeError: 'str' object has no attribute 'ascii_lowercase'\n",
      "\n",
      "======================================================================\n",
      "ERROR: runTest (mod.testing.test_pangram.<locals>.TestKnown)\n",
      "----------------------------------------------------------------------\n",
      "Traceback (most recent call last):\n",
      "  File \"/Users/venice/Downloads/1.DS/labs/lab-functions/mod/testing.py\", line 172, in runTest\n",
      "    self.assertEqual(fn(self.input), self.output, f\"Should be {self.output}\")\n",
      "  File \"/var/folders/yx/4xsyrpbs305132t_87mnd3600000gn/T/ipykernel_20717/167969502.py\", line 6, in pangram\n",
      "    for x in range(string.ascii_lowercase[:26]): # loop through all letters of alphabet\n",
      "AttributeError: 'str' object has no attribute 'ascii_lowercase'\n",
      "\n",
      "======================================================================\n",
      "ERROR: runTest (mod.testing.test_pangram.<locals>.TestKnown)\n",
      "----------------------------------------------------------------------\n",
      "Traceback (most recent call last):\n",
      "  File \"/Users/venice/Downloads/1.DS/labs/lab-functions/mod/testing.py\", line 172, in runTest\n",
      "    self.assertEqual(fn(self.input), self.output, f\"Should be {self.output}\")\n",
      "  File \"/var/folders/yx/4xsyrpbs305132t_87mnd3600000gn/T/ipykernel_20717/167969502.py\", line 6, in pangram\n",
      "    for x in range(string.ascii_lowercase[:26]): # loop through all letters of alphabet\n",
      "AttributeError: 'str' object has no attribute 'ascii_lowercase'\n",
      "\n",
      "======================================================================\n",
      "ERROR: runTest (mod.testing.test_pangram.<locals>.TestKnown)\n",
      "----------------------------------------------------------------------\n",
      "Traceback (most recent call last):\n",
      "  File \"/Users/venice/Downloads/1.DS/labs/lab-functions/mod/testing.py\", line 172, in runTest\n",
      "    self.assertEqual(fn(self.input), self.output, f\"Should be {self.output}\")\n",
      "  File \"/var/folders/yx/4xsyrpbs305132t_87mnd3600000gn/T/ipykernel_20717/167969502.py\", line 6, in pangram\n",
      "    for x in range(string.ascii_lowercase[:26]): # loop through all letters of alphabet\n",
      "AttributeError: 'str' object has no attribute 'ascii_lowercase'\n",
      "\n",
      "======================================================================\n",
      "ERROR: runTest (mod.testing.test_pangram.<locals>.TestKnown)\n",
      "----------------------------------------------------------------------\n",
      "Traceback (most recent call last):\n",
      "  File \"/Users/venice/Downloads/1.DS/labs/lab-functions/mod/testing.py\", line 172, in runTest\n",
      "    self.assertEqual(fn(self.input), self.output, f\"Should be {self.output}\")\n",
      "  File \"/var/folders/yx/4xsyrpbs305132t_87mnd3600000gn/T/ipykernel_20717/167969502.py\", line 6, in pangram\n",
      "    for x in range(string.ascii_lowercase[:26]): # loop through all letters of alphabet\n",
      "AttributeError: 'str' object has no attribute 'ascii_lowercase'\n",
      "\n",
      "======================================================================\n",
      "ERROR: runTest (mod.testing.test_pangram.<locals>.TestKnown)\n",
      "----------------------------------------------------------------------\n",
      "Traceback (most recent call last):\n",
      "  File \"/Users/venice/Downloads/1.DS/labs/lab-functions/mod/testing.py\", line 172, in runTest\n",
      "    self.assertEqual(fn(self.input), self.output, f\"Should be {self.output}\")\n",
      "  File \"/var/folders/yx/4xsyrpbs305132t_87mnd3600000gn/T/ipykernel_20717/167969502.py\", line 6, in pangram\n",
      "    for x in range(string.ascii_lowercase[:26]): # loop through all letters of alphabet\n",
      "AttributeError: 'str' object has no attribute 'ascii_lowercase'\n",
      "\n",
      "======================================================================\n",
      "ERROR: runTest (mod.testing.test_pangram.<locals>.TestKnown)\n",
      "----------------------------------------------------------------------\n",
      "Traceback (most recent call last):\n",
      "  File \"/Users/venice/Downloads/1.DS/labs/lab-functions/mod/testing.py\", line 172, in runTest\n",
      "    self.assertEqual(fn(self.input), self.output, f\"Should be {self.output}\")\n",
      "  File \"/var/folders/yx/4xsyrpbs305132t_87mnd3600000gn/T/ipykernel_20717/167969502.py\", line 6, in pangram\n",
      "    for x in range(string.ascii_lowercase[:26]): # loop through all letters of alphabet\n",
      "AttributeError: 'str' object has no attribute 'ascii_lowercase'\n",
      "\n",
      "======================================================================\n",
      "ERROR: runTest (mod.testing.test_pangram.<locals>.TestKnown)\n",
      "----------------------------------------------------------------------\n",
      "Traceback (most recent call last):\n",
      "  File \"/Users/venice/Downloads/1.DS/labs/lab-functions/mod/testing.py\", line 172, in runTest\n",
      "    self.assertEqual(fn(self.input), self.output, f\"Should be {self.output}\")\n",
      "  File \"/var/folders/yx/4xsyrpbs305132t_87mnd3600000gn/T/ipykernel_20717/167969502.py\", line 6, in pangram\n",
      "    for x in range(string.ascii_lowercase[:26]): # loop through all letters of alphabet\n",
      "AttributeError: 'str' object has no attribute 'ascii_lowercase'\n",
      "\n",
      "======================================================================\n",
      "ERROR: runTest (mod.testing.test_pangram.<locals>.TestKnown)\n",
      "----------------------------------------------------------------------\n",
      "Traceback (most recent call last):\n",
      "  File \"/Users/venice/Downloads/1.DS/labs/lab-functions/mod/testing.py\", line 172, in runTest\n",
      "    self.assertEqual(fn(self.input), self.output, f\"Should be {self.output}\")\n",
      "  File \"/var/folders/yx/4xsyrpbs305132t_87mnd3600000gn/T/ipykernel_20717/167969502.py\", line 6, in pangram\n",
      "    for x in range(string.ascii_lowercase[:26]): # loop through all letters of alphabet\n",
      "AttributeError: 'str' object has no attribute 'ascii_lowercase'\n",
      "\n",
      "======================================================================\n",
      "ERROR: runTest (mod.testing.test_pangram.<locals>.TestKnown)\n",
      "----------------------------------------------------------------------\n",
      "Traceback (most recent call last):\n",
      "  File \"/Users/venice/Downloads/1.DS/labs/lab-functions/mod/testing.py\", line 172, in runTest\n",
      "    self.assertEqual(fn(self.input), self.output, f\"Should be {self.output}\")\n",
      "  File \"/var/folders/yx/4xsyrpbs305132t_87mnd3600000gn/T/ipykernel_20717/167969502.py\", line 6, in pangram\n",
      "    for x in range(string.ascii_lowercase[:26]): # loop through all letters of alphabet\n",
      "AttributeError: 'str' object has no attribute 'ascii_lowercase'\n",
      "\n"
     ]
    },
    {
     "name": "stderr",
     "output_type": "stream",
     "text": [
      "======================================================================\n",
      "ERROR: runTest (mod.testing.test_pangram.<locals>.TestKnown)\n",
      "----------------------------------------------------------------------\n",
      "Traceback (most recent call last):\n",
      "  File \"/Users/venice/Downloads/1.DS/labs/lab-functions/mod/testing.py\", line 172, in runTest\n",
      "    self.assertEqual(fn(self.input), self.output, f\"Should be {self.output}\")\n",
      "  File \"/var/folders/yx/4xsyrpbs305132t_87mnd3600000gn/T/ipykernel_20717/167969502.py\", line 6, in pangram\n",
      "    for x in range(string.ascii_lowercase[:26]): # loop through all letters of alphabet\n",
      "AttributeError: 'str' object has no attribute 'ascii_lowercase'\n",
      "\n",
      "======================================================================\n",
      "ERROR: runTest (mod.testing.test_pangram.<locals>.TestKnown)\n",
      "----------------------------------------------------------------------\n",
      "Traceback (most recent call last):\n",
      "  File \"/Users/venice/Downloads/1.DS/labs/lab-functions/mod/testing.py\", line 172, in runTest\n",
      "    self.assertEqual(fn(self.input), self.output, f\"Should be {self.output}\")\n",
      "  File \"/var/folders/yx/4xsyrpbs305132t_87mnd3600000gn/T/ipykernel_20717/167969502.py\", line 6, in pangram\n",
      "    for x in range(string.ascii_lowercase[:26]): # loop through all letters of alphabet\n",
      "AttributeError: 'str' object has no attribute 'ascii_lowercase'\n",
      "\n",
      "======================================================================\n",
      "ERROR: runTest (mod.testing.test_pangram.<locals>.TestKnown)\n",
      "----------------------------------------------------------------------\n",
      "Traceback (most recent call last):\n",
      "  File \"/Users/venice/Downloads/1.DS/labs/lab-functions/mod/testing.py\", line 172, in runTest\n",
      "    self.assertEqual(fn(self.input), self.output, f\"Should be {self.output}\")\n",
      "  File \"/var/folders/yx/4xsyrpbs305132t_87mnd3600000gn/T/ipykernel_20717/167969502.py\", line 6, in pangram\n",
      "    for x in range(string.ascii_lowercase[:26]): # loop through all letters of alphabet\n",
      "AttributeError: 'str' object has no attribute 'ascii_lowercase'\n",
      "\n",
      "======================================================================\n",
      "ERROR: runTest (mod.testing.test_pangram.<locals>.TestKnown)\n",
      "----------------------------------------------------------------------\n",
      "Traceback (most recent call last):\n",
      "  File \"/Users/venice/Downloads/1.DS/labs/lab-functions/mod/testing.py\", line 172, in runTest\n",
      "    self.assertEqual(fn(self.input), self.output, f\"Should be {self.output}\")\n",
      "  File \"/var/folders/yx/4xsyrpbs305132t_87mnd3600000gn/T/ipykernel_20717/167969502.py\", line 6, in pangram\n",
      "    for x in range(string.ascii_lowercase[:26]): # loop through all letters of alphabet\n",
      "AttributeError: 'str' object has no attribute 'ascii_lowercase'\n",
      "\n",
      "======================================================================\n",
      "ERROR: runTest (mod.testing.test_pangram.<locals>.TestKnown)\n",
      "----------------------------------------------------------------------\n",
      "Traceback (most recent call last):\n",
      "  File \"/Users/venice/Downloads/1.DS/labs/lab-functions/mod/testing.py\", line 172, in runTest\n",
      "    self.assertEqual(fn(self.input), self.output, f\"Should be {self.output}\")\n",
      "  File \"/var/folders/yx/4xsyrpbs305132t_87mnd3600000gn/T/ipykernel_20717/167969502.py\", line 6, in pangram\n",
      "    for x in range(string.ascii_lowercase[:26]): # loop through all letters of alphabet\n",
      "AttributeError: 'str' object has no attribute 'ascii_lowercase'\n",
      "\n",
      "======================================================================\n",
      "ERROR: runTest (mod.testing.test_pangram.<locals>.TestKnown)\n",
      "----------------------------------------------------------------------\n",
      "Traceback (most recent call last):\n",
      "  File \"/Users/venice/Downloads/1.DS/labs/lab-functions/mod/testing.py\", line 172, in runTest\n",
      "    self.assertEqual(fn(self.input), self.output, f\"Should be {self.output}\")\n",
      "  File \"/var/folders/yx/4xsyrpbs305132t_87mnd3600000gn/T/ipykernel_20717/167969502.py\", line 6, in pangram\n",
      "    for x in range(string.ascii_lowercase[:26]): # loop through all letters of alphabet\n",
      "AttributeError: 'str' object has no attribute 'ascii_lowercase'\n",
      "\n",
      "======================================================================\n",
      "ERROR: runTest (mod.testing.test_pangram.<locals>.TestKnown)\n",
      "----------------------------------------------------------------------\n",
      "Traceback (most recent call last):\n",
      "  File \"/Users/venice/Downloads/1.DS/labs/lab-functions/mod/testing.py\", line 172, in runTest\n",
      "    self.assertEqual(fn(self.input), self.output, f\"Should be {self.output}\")\n",
      "  File \"/var/folders/yx/4xsyrpbs305132t_87mnd3600000gn/T/ipykernel_20717/167969502.py\", line 6, in pangram\n",
      "    for x in range(string.ascii_lowercase[:26]): # loop through all letters of alphabet\n",
      "AttributeError: 'str' object has no attribute 'ascii_lowercase'\n",
      "\n",
      "======================================================================\n",
      "ERROR: runTest (mod.testing.test_pangram.<locals>.TestKnown)\n",
      "----------------------------------------------------------------------\n",
      "Traceback (most recent call last):\n",
      "  File \"/Users/venice/Downloads/1.DS/labs/lab-functions/mod/testing.py\", line 172, in runTest\n",
      "    self.assertEqual(fn(self.input), self.output, f\"Should be {self.output}\")\n",
      "  File \"/var/folders/yx/4xsyrpbs305132t_87mnd3600000gn/T/ipykernel_20717/167969502.py\", line 6, in pangram\n",
      "    for x in range(string.ascii_lowercase[:26]): # loop through all letters of alphabet\n",
      "AttributeError: 'str' object has no attribute 'ascii_lowercase'\n",
      "\n",
      "======================================================================\n",
      "ERROR: runTest (mod.testing.test_pangram.<locals>.TestKnown)\n",
      "----------------------------------------------------------------------\n",
      "Traceback (most recent call last):\n",
      "  File \"/Users/venice/Downloads/1.DS/labs/lab-functions/mod/testing.py\", line 172, in runTest\n",
      "    self.assertEqual(fn(self.input), self.output, f\"Should be {self.output}\")\n",
      "  File \"/var/folders/yx/4xsyrpbs305132t_87mnd3600000gn/T/ipykernel_20717/167969502.py\", line 6, in pangram\n",
      "    for x in range(string.ascii_lowercase[:26]): # loop through all letters of alphabet\n",
      "AttributeError: 'str' object has no attribute 'ascii_lowercase'\n",
      "\n",
      "======================================================================\n",
      "ERROR: runTest (mod.testing.test_pangram.<locals>.TestKnown)\n",
      "----------------------------------------------------------------------\n",
      "Traceback (most recent call last):\n",
      "  File \"/Users/venice/Downloads/1.DS/labs/lab-functions/mod/testing.py\", line 172, in runTest\n",
      "    self.assertEqual(fn(self.input), self.output, f\"Should be {self.output}\")\n",
      "  File \"/var/folders/yx/4xsyrpbs305132t_87mnd3600000gn/T/ipykernel_20717/167969502.py\", line 6, in pangram\n",
      "    for x in range(string.ascii_lowercase[:26]): # loop through all letters of alphabet\n",
      "AttributeError: 'str' object has no attribute 'ascii_lowercase'\n",
      "\n",
      "======================================================================\n",
      "ERROR: runTest (mod.testing.test_pangram.<locals>.TestKnown)\n",
      "----------------------------------------------------------------------\n",
      "Traceback (most recent call last):\n",
      "  File \"/Users/venice/Downloads/1.DS/labs/lab-functions/mod/testing.py\", line 172, in runTest\n",
      "    self.assertEqual(fn(self.input), self.output, f\"Should be {self.output}\")\n",
      "  File \"/var/folders/yx/4xsyrpbs305132t_87mnd3600000gn/T/ipykernel_20717/167969502.py\", line 6, in pangram\n",
      "    for x in range(string.ascii_lowercase[:26]): # loop through all letters of alphabet\n",
      "AttributeError: 'str' object has no attribute 'ascii_lowercase'\n",
      "\n",
      "======================================================================\n",
      "ERROR: runTest (mod.testing.test_pangram.<locals>.TestKnown)\n",
      "----------------------------------------------------------------------\n",
      "Traceback (most recent call last):\n",
      "  File \"/Users/venice/Downloads/1.DS/labs/lab-functions/mod/testing.py\", line 172, in runTest\n",
      "    self.assertEqual(fn(self.input), self.output, f\"Should be {self.output}\")\n",
      "  File \"/var/folders/yx/4xsyrpbs305132t_87mnd3600000gn/T/ipykernel_20717/167969502.py\", line 6, in pangram\n",
      "    for x in range(string.ascii_lowercase[:26]): # loop through all letters of alphabet\n",
      "AttributeError: 'str' object has no attribute 'ascii_lowercase'\n",
      "\n",
      "======================================================================\n",
      "ERROR: runTest (mod.testing.test_pangram.<locals>.TestKnown)\n",
      "----------------------------------------------------------------------\n",
      "Traceback (most recent call last):\n",
      "  File \"/Users/venice/Downloads/1.DS/labs/lab-functions/mod/testing.py\", line 172, in runTest\n",
      "    self.assertEqual(fn(self.input), self.output, f\"Should be {self.output}\")\n",
      "  File \"/var/folders/yx/4xsyrpbs305132t_87mnd3600000gn/T/ipykernel_20717/167969502.py\", line 6, in pangram\n",
      "    for x in range(string.ascii_lowercase[:26]): # loop through all letters of alphabet\n",
      "AttributeError: 'str' object has no attribute 'ascii_lowercase'\n",
      "\n"
     ]
    },
    {
     "name": "stderr",
     "output_type": "stream",
     "text": [
      "======================================================================\n",
      "ERROR: runTest (mod.testing.test_pangram.<locals>.TestKnown)\n",
      "----------------------------------------------------------------------\n",
      "Traceback (most recent call last):\n",
      "  File \"/Users/venice/Downloads/1.DS/labs/lab-functions/mod/testing.py\", line 172, in runTest\n",
      "    self.assertEqual(fn(self.input), self.output, f\"Should be {self.output}\")\n",
      "  File \"/var/folders/yx/4xsyrpbs305132t_87mnd3600000gn/T/ipykernel_20717/167969502.py\", line 6, in pangram\n",
      "    for x in range(string.ascii_lowercase[:26]): # loop through all letters of alphabet\n",
      "AttributeError: 'str' object has no attribute 'ascii_lowercase'\n",
      "\n",
      "======================================================================\n",
      "ERROR: runTest (mod.testing.test_pangram.<locals>.TestKnown)\n",
      "----------------------------------------------------------------------\n",
      "Traceback (most recent call last):\n",
      "  File \"/Users/venice/Downloads/1.DS/labs/lab-functions/mod/testing.py\", line 172, in runTest\n",
      "    self.assertEqual(fn(self.input), self.output, f\"Should be {self.output}\")\n",
      "  File \"/var/folders/yx/4xsyrpbs305132t_87mnd3600000gn/T/ipykernel_20717/167969502.py\", line 6, in pangram\n",
      "    for x in range(string.ascii_lowercase[:26]): # loop through all letters of alphabet\n",
      "AttributeError: 'str' object has no attribute 'ascii_lowercase'\n",
      "\n",
      "======================================================================\n",
      "ERROR: runTest (mod.testing.test_pangram.<locals>.TestKnown)\n",
      "----------------------------------------------------------------------\n",
      "Traceback (most recent call last):\n",
      "  File \"/Users/venice/Downloads/1.DS/labs/lab-functions/mod/testing.py\", line 172, in runTest\n",
      "    self.assertEqual(fn(self.input), self.output, f\"Should be {self.output}\")\n",
      "  File \"/var/folders/yx/4xsyrpbs305132t_87mnd3600000gn/T/ipykernel_20717/167969502.py\", line 6, in pangram\n",
      "    for x in range(string.ascii_lowercase[:26]): # loop through all letters of alphabet\n",
      "AttributeError: 'str' object has no attribute 'ascii_lowercase'\n",
      "\n",
      "======================================================================\n",
      "ERROR: runTest (mod.testing.test_pangram.<locals>.TestKnown)\n",
      "----------------------------------------------------------------------\n",
      "Traceback (most recent call last):\n",
      "  File \"/Users/venice/Downloads/1.DS/labs/lab-functions/mod/testing.py\", line 172, in runTest\n",
      "    self.assertEqual(fn(self.input), self.output, f\"Should be {self.output}\")\n",
      "  File \"/var/folders/yx/4xsyrpbs305132t_87mnd3600000gn/T/ipykernel_20717/167969502.py\", line 6, in pangram\n",
      "    for x in range(string.ascii_lowercase[:26]): # loop through all letters of alphabet\n",
      "AttributeError: 'str' object has no attribute 'ascii_lowercase'\n",
      "\n",
      "----------------------------------------------------------------------\n",
      "Ran 30 tests in 0.064s\n",
      "\n",
      "FAILED (errors=30)\n"
     ]
    }
   ],
   "source": [
    "# This will test your function \n",
    "test_pangram(pangram)"
   ]
  },
  {
   "cell_type": "markdown",
   "metadata": {},
   "source": [
    "## 11. Write a function that receives a string of comma separated words and returns a string of comma separated words sorted alphabetically.\n",
    "\n",
    "`NOTE: You may use sorted but not split and definitely no join! 🤪`"
   ]
  },
  {
   "cell_type": "code",
   "execution_count": null,
   "metadata": {},
   "outputs": [],
   "source": [
    "def sort_alpha(string):\n",
    "    pass\n",
    "# check 16 on today's lesson or study lambda sort functions"
   ]
  },
  {
   "cell_type": "code",
   "execution_count": null,
   "metadata": {},
   "outputs": [],
   "source": [
    "# This will test your function \n",
    "test_alpha(sort_alpha)"
   ]
  },
  {
   "cell_type": "markdown",
   "metadata": {},
   "source": [
    "## 12. Write a function to check if a given password is strong (at least 8 characters, at least one lower case, at least one upper case, at least one number and at least one special character). It should output True if strong and False if not.\n",
    "`Valid special characters: # @ ! $ % & ( ) ^ * [ ] { }`"
   ]
  },
  {
   "cell_type": "code",
   "execution_count": null,
   "metadata": {},
   "outputs": [],
   "source": [
    "def check_pass(string):\n",
    "    pass"
   ]
  },
  {
   "cell_type": "code",
   "execution_count": null,
   "metadata": {},
   "outputs": [],
   "source": [
    "# This will test your function \n",
    "test_pass(check_pass)"
   ]
  }
 ],
 "metadata": {
  "kernelspec": {
   "display_name": "Python 3 (ipykernel)",
   "language": "python",
   "name": "python3"
  },
  "language_info": {
   "codemirror_mode": {
    "name": "ipython",
    "version": 3
   },
   "file_extension": ".py",
   "mimetype": "text/x-python",
   "name": "python",
   "nbconvert_exporter": "python",
   "pygments_lexer": "ipython3",
   "version": "3.9.12"
  }
 },
 "nbformat": 4,
 "nbformat_minor": 4
}
